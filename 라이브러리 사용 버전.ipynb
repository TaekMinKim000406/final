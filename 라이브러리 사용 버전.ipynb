{
 "cells": [
  {
   "cell_type": "code",
   "execution_count": 96,
   "id": "c47f36e9-3ba3-46fe-ba89-1d74433dda1e",
   "metadata": {},
   "outputs": [],
   "source": [
    "from konlpy.tag import Okt\n",
    "import torch\n",
    "import torch.nn as nn\n",
    "from torch.utils.data import Dataset, DataLoader\n",
    "import torch.optim as optim\n",
    "from tqdm import tqdm\n",
    "import os\n",
    "import json"
   ]
  },
  {
   "cell_type": "code",
   "execution_count": 97,
   "id": "1f7a3ff5-cf3d-437b-96b4-14700ec8d00a",
   "metadata": {},
   "outputs": [],
   "source": [
    "class SentenceDataset(Dataset):\n",
    "    def __init__(self, texts, labels, vocab, max_length):\n",
    "        self.texts = texts\n",
    "        self.labels = labels\n",
    "        self.vocab = vocab\n",
    "        self.max_length = max_length\n",
    "\n",
    "    def __len__(self):\n",
    "        return len(self.texts)\n",
    "\n",
    "    def __getitem__(self, idx):\n",
    "        text = self.texts[idx]\n",
    "        label = self.labels[idx]\n",
    "        \n",
    "        # 토큰화 및 인덱스 변환\n",
    "        tokens = [self.vocab.get(token, self.vocab['<UNK>']) for token in okt.morphs(text)]\n",
    "        \n",
    "        # 패딩 처리\n",
    "        if len(tokens) < self.max_length:\n",
    "            tokens += [self.vocab['<PAD>']] * (self.max_length - len(tokens))\n",
    "        else:\n",
    "            tokens = tokens[:self.max_length]\n",
    "        \n",
    "        tokens = torch.tensor(tokens, dtype=torch.long)\n",
    "        label = torch.tensor(label, dtype=torch.long)\n",
    "        \n",
    "        return tokens, label"
   ]
  },
  {
   "cell_type": "code",
   "execution_count": 98,
   "id": "9b816f43-0234-4649-a354-72dac65d68df",
   "metadata": {},
   "outputs": [],
   "source": [
    "predict_target = 'linguistic_acceptability'"
   ]
  },
  {
   "cell_type": "code",
   "execution_count": 99,
   "id": "baaa33b0-e68c-4ae2-88c6-ae26131ad49f",
   "metadata": {},
   "outputs": [],
   "source": [
    "#데이터 불러오기\n",
    "texts = []\n",
    "labels = []\n",
    "\n",
    "#실행 파일과 같은 폴더에 파일들이 존재해야 합니다.\n",
    "for i in range(1, 100):\n",
    "    file_name = f'기술_과학_{i}.json'  \n",
    "    \n",
    "    if os.path.exists(file_name):  # 파일이 존재하는 경우에만 처리\n",
    "        with open(file_name, 'r', encoding='utf-8') as file:\n",
    "            data = json.load(file)\n",
    "        \n",
    "        for conversation in data[\"dataset\"].get(\"conversations\", []):\n",
    "            for utterance in conversation.get(\"utterances\", []):\n",
    "                text = utterance.get(\"utterance_text\", \"\")\n",
    "                evaluation = utterance.get(\"utterance_evaluation\", [])\n",
    "                if evaluation:  # 평가 대상이 아닌 문장을 제외\n",
    "                    texts.append(text)\n",
    "                    labels.append(evaluation)"
   ]
  },
  {
   "cell_type": "code",
   "execution_count": 100,
   "id": "80167566-dbc4-4540-8f67-331832b78f0d",
   "metadata": {},
   "outputs": [],
   "source": [
    "# 속성별 레이블 추출\n",
    "\n",
    "attribute_labels = {\n",
    "    'linguistic_acceptability': [],\n",
    "    'consistency': [],\n",
    "    'interestingness': [],\n",
    "    'unbias': [],\n",
    "    'harmlessness': [],\n",
    "    'no_hallucination': [],\n",
    "    'understandability': [],\n",
    "    'sensibleness': [],\n",
    "    'specificity': []\n",
    "}\n",
    "\n",
    "for i in range(len(labels)):\n",
    "    # 현재 대화에 대한 속성값 초기화\n",
    "    attribute_values = {key: 0 for key in attribute_labels.keys()}\n",
    "\n",
    "    for j in range(len(labels[i])):\n",
    "        for key in attribute_labels.keys():\n",
    "            if labels[i][j].get(key) == 'yes':\n",
    "                attribute_values[key] += 1\n",
    "\n",
    "    # 각 속성별로 모든 발화에서 'yes'인 경우만 1, 아니면 0\n",
    "    for key in attribute_labels.keys():\n",
    "        if attribute_values[key] == len(labels[i]):\n",
    "            attribute_labels[key].append(1)\n",
    "        else:\n",
    "            attribute_labels[key].append(0)"
   ]
  },
  {
   "cell_type": "code",
   "execution_count": 101,
   "id": "86434c00-dd04-4be9-8152-81644c7c495f",
   "metadata": {},
   "outputs": [],
   "source": [
    "#토큰화\n",
    "okt = Okt()\n",
    "tokenized_sentences = [okt.morphs(sentence) for sentence in texts]\n",
    "vocab = {'<PAD>': 0, '<UNK>': 1}\n",
    "for tokens in tokenized_sentences:\n",
    "    for token in tokens:\n",
    "        if token not in vocab:\n",
    "            vocab[token] = len(vocab)\n",
    "\n",
    "max_length = 10\n",
    "dataset = SentenceDataset(texts, attribute_labels[predict_target], vocab, max_length)\n",
    "train_loader = DataLoader(dataset, batch_size=32, shuffle=True)"
   ]
  },
  {
   "cell_type": "code",
   "execution_count": 102,
   "id": "b246145d-4392-40ce-8aad-43fba57f2ae0",
   "metadata": {},
   "outputs": [],
   "source": [
    "#모델\n",
    "class LSTMClassifier(nn.Module):\n",
    "    def __init__(self, vocab_size, embedding_dim, hidden_dim, output_dim, padding_idx):\n",
    "        super(LSTMClassifier, self).__init__()\n",
    "        self.embedding = nn.Embedding(vocab_size, embedding_dim, padding_idx=padding_idx)\n",
    "        self.lstm = nn.LSTM(embedding_dim, hidden_dim, batch_first=True)\n",
    "        self.affine = nn.Linear(hidden_dim, hidden_dim) \n",
    "        self.fc = nn.Linear(hidden_dim, output_dim)\n",
    "\n",
    "    def forward(self, x):\n",
    "        embedded = self.embedding(x)\n",
    "        _, (hidden, _) = self.lstm(embedded)\n",
    "        output = self.fc(hidden[-1])\n",
    "        return output\n",
    "\n",
    "class RNNClassifier(nn.Module):\n",
    "    def __init__(self, vocab_size, embedding_dim, hidden_dim, output_dim, padding_idx):\n",
    "        super(RNNClassifier, self).__init__()\n",
    "        self.embedding = nn.Embedding(vocab_size, embedding_dim, padding_idx=padding_idx)\n",
    "        self.rnn = nn.RNN(embedding_dim, hidden_dim, batch_first=True) \n",
    "        self.affine = nn.Linear(hidden_dim, hidden_dim) \n",
    "        self.fc = nn.Linear(hidden_dim, output_dim)  \n",
    "\n",
    "    def forward(self, x):\n",
    "        embedded = self.embedding(x)\n",
    "        _, hidden = self.rnn(embedded)  \n",
    "        affine_output = self.affine(hidden[-1])  \n",
    "        output = self.fc(affine_output)  \n",
    "        return output"
   ]
  },
  {
   "cell_type": "code",
   "execution_count": 103,
   "id": "f9da228b-6e28-4eff-9096-ffd870718c83",
   "metadata": {},
   "outputs": [
    {
     "name": "stdout",
     "output_type": "stream",
     "text": [
      "Epoch 1/10\n"
     ]
    },
    {
     "name": "stderr",
     "output_type": "stream",
     "text": [
      "100%|██████████████████████████████████████████████████████████████████████████████████| 23/23 [00:02<00:00, 10.89it/s]\n"
     ]
    },
    {
     "name": "stdout",
     "output_type": "stream",
     "text": [
      "Epoch Loss: 13.7643\n",
      "Epoch 2/10\n"
     ]
    },
    {
     "name": "stderr",
     "output_type": "stream",
     "text": [
      "100%|██████████████████████████████████████████████████████████████████████████████████| 23/23 [00:02<00:00, 11.32it/s]\n"
     ]
    },
    {
     "name": "stdout",
     "output_type": "stream",
     "text": [
      "Epoch Loss: 10.8150\n",
      "Epoch 3/10\n"
     ]
    },
    {
     "name": "stderr",
     "output_type": "stream",
     "text": [
      "100%|██████████████████████████████████████████████████████████████████████████████████| 23/23 [00:02<00:00, 11.38it/s]\n"
     ]
    },
    {
     "name": "stdout",
     "output_type": "stream",
     "text": [
      "Epoch Loss: 9.6210\n",
      "Epoch 4/10\n"
     ]
    },
    {
     "name": "stderr",
     "output_type": "stream",
     "text": [
      "100%|██████████████████████████████████████████████████████████████████████████████████| 23/23 [00:01<00:00, 12.12it/s]\n"
     ]
    },
    {
     "name": "stdout",
     "output_type": "stream",
     "text": [
      "Epoch Loss: 8.4565\n",
      "Epoch 5/10\n"
     ]
    },
    {
     "name": "stderr",
     "output_type": "stream",
     "text": [
      "100%|██████████████████████████████████████████████████████████████████████████████████| 23/23 [00:02<00:00, 11.48it/s]\n"
     ]
    },
    {
     "name": "stdout",
     "output_type": "stream",
     "text": [
      "Epoch Loss: 7.2943\n",
      "Epoch 6/10\n"
     ]
    },
    {
     "name": "stderr",
     "output_type": "stream",
     "text": [
      "100%|██████████████████████████████████████████████████████████████████████████████████| 23/23 [00:02<00:00, 11.43it/s]\n"
     ]
    },
    {
     "name": "stdout",
     "output_type": "stream",
     "text": [
      "Epoch Loss: 6.1140\n",
      "Epoch 7/10\n"
     ]
    },
    {
     "name": "stderr",
     "output_type": "stream",
     "text": [
      "100%|██████████████████████████████████████████████████████████████████████████████████| 23/23 [00:02<00:00, 11.39it/s]\n"
     ]
    },
    {
     "name": "stdout",
     "output_type": "stream",
     "text": [
      "Epoch Loss: 4.8680\n",
      "Epoch 8/10\n"
     ]
    },
    {
     "name": "stderr",
     "output_type": "stream",
     "text": [
      "100%|██████████████████████████████████████████████████████████████████████████████████| 23/23 [00:01<00:00, 11.99it/s]\n"
     ]
    },
    {
     "name": "stdout",
     "output_type": "stream",
     "text": [
      "Epoch Loss: 4.0508\n",
      "Epoch 9/10\n"
     ]
    },
    {
     "name": "stderr",
     "output_type": "stream",
     "text": [
      "100%|██████████████████████████████████████████████████████████████████████████████████| 23/23 [00:01<00:00, 11.63it/s]\n"
     ]
    },
    {
     "name": "stdout",
     "output_type": "stream",
     "text": [
      "Epoch Loss: 2.9164\n",
      "Epoch 10/10\n"
     ]
    },
    {
     "name": "stderr",
     "output_type": "stream",
     "text": [
      "100%|██████████████████████████████████████████████████████████████████████████████████| 23/23 [00:01<00:00, 11.58it/s]"
     ]
    },
    {
     "name": "stdout",
     "output_type": "stream",
     "text": [
      "Epoch Loss: 2.2179\n"
     ]
    },
    {
     "name": "stderr",
     "output_type": "stream",
     "text": [
      "\n"
     ]
    }
   ],
   "source": [
    "#학습\n",
    "vocab_size = len(vocab)\n",
    "embedding_dim = 50\n",
    "hidden_dim = 64\n",
    "output_dim = len(set(attribute_labels[predict_target]))  # 라벨의 개수\n",
    "padding_idx = vocab['<PAD>']\n",
    "context_size = 5\n",
    "\n",
    "model = LSTMClassifier(vocab_size, embedding_dim, hidden_dim, output_dim, padding_idx)\n",
    "# model = RNNClassifier(vocab_size, embedding_dim, hidden_dim, output_dim, padding_idx)\n",
    "\n",
    "device = torch.device(\"cuda\" if torch.cuda.is_available() else \"cpu\")\n",
    "model.to(device)\n",
    "\n",
    "criterion = nn.CrossEntropyLoss()\n",
    "optimizer = optim.Adam(model.parameters(), lr=0.001)\n",
    "epochs = 10\n",
    "\n",
    "model.train()\n",
    "for epoch in range(epochs):\n",
    "    print(f\"Epoch {epoch + 1}/{epochs}\")\n",
    "    epoch_loss = 0\n",
    "    for input_ids, labels in tqdm(train_loader):\n",
    "        input_ids, labels = input_ids.to(device), labels.to(device)\n",
    "\n",
    "        optimizer.zero_grad()\n",
    "        outputs = model(input_ids)\n",
    "        loss = criterion(outputs, labels)\n",
    "        loss.backward()\n",
    "        optimizer.step()\n",
    "\n",
    "        epoch_loss += loss.item()\n",
    "    print(f\"Epoch Loss: {epoch_loss:.4f}\")"
   ]
  },
  {
   "cell_type": "code",
   "execution_count": 104,
   "id": "32f99dd6-88d0-4124-a45c-6d3842688cb1",
   "metadata": {},
   "outputs": [],
   "source": [
    "#예측 함수\n",
    "def predict(sentence):\n",
    "    model.eval()\n",
    "    tokens = okt.morphs(sentence)\n",
    "    input_ids = [vocab.get(token, vocab['<UNK>']) for token in tokens]\n",
    "    input_ids = input_ids[:max_length] + [vocab['<PAD>']] * (max_length - len(input_ids))\n",
    "    input_tensor = torch.tensor([input_ids], dtype=torch.long).to(device)\n",
    "    with torch.no_grad():\n",
    "        outputs = model(input_tensor)\n",
    "        prediction = torch.argmax(outputs, dim=1).item()\n",
    "    return prediction"
   ]
  },
  {
   "cell_type": "code",
   "execution_count": 105,
   "id": "3dee9a9b-698a-4ba2-a130-744b2208f65f",
   "metadata": {},
   "outputs": [],
   "source": [
    "#테스트 코드\n",
    "texts = []\n",
    "labels = []\n",
    "\n",
    "for i in range(100, 200):\n",
    "    file_name = f'기술_과학_{i}.json'  \n",
    "    \n",
    "    if os.path.exists(file_name):  # 파일이 존재하는 경우에만 처리\n",
    "        with open(file_name, 'r', encoding='utf-8') as file:\n",
    "            data = json.load(file)\n",
    "        \n",
    "        for conversation in data[\"dataset\"].get(\"conversations\", []):\n",
    "            for utterance in conversation.get(\"utterances\", []):\n",
    "                text = utterance.get(\"utterance_text\", \"\")\n",
    "                evaluation = utterance.get(\"utterance_evaluation\", [])\n",
    "                if evaluation:  # 평가 대상이 아닌 문장을 제외\n",
    "                    texts.append(text)\n",
    "                    labels.append(evaluation)\n",
    "attribute_labels = {\n",
    "    'linguistic_acceptability': [],\n",
    "    'consistency': [],\n",
    "    'interestingness': [],\n",
    "    'unbias': [],\n",
    "    'harmlessness': [],\n",
    "    'no_hallucination': [],\n",
    "    'understandability': [],\n",
    "    'sensibleness': [],\n",
    "    'specificity': []\n",
    "}\n",
    "\n",
    "# 속성별 레이블 추출\n",
    "for i in range(len(labels)):\n",
    "    # 현재 대화에 대한 속성값 초기화\n",
    "    attribute_values = {key: 0 for key in attribute_labels.keys()}\n",
    "\n",
    "    for j in range(len(labels[i])):\n",
    "        for key in attribute_labels.keys():\n",
    "            if labels[i][j].get(key) == 'yes':\n",
    "                attribute_values[key] += 1\n",
    "\n",
    "    # 각 속성별로 모든 발화에서 'yes'인 경우만 1, 아니면 0\n",
    "    for key in attribute_labels.keys():\n",
    "        if attribute_values[key] == len(labels[i]):\n",
    "            attribute_labels[key].append(1)\n",
    "        else:\n",
    "            attribute_labels[key].append(0)\n",
    "\n",
    "result = []\n",
    "for i in range(len(texts)):\n",
    "    predicted_label = predict(texts[i])\n",
    "    result.append(predicted_label)"
   ]
  },
  {
   "cell_type": "code",
   "execution_count": 106,
   "id": "9d552b30-23a6-43ea-9cac-fd291f8acba5",
   "metadata": {},
   "outputs": [
    {
     "data": {
      "text/plain": [
       "0.7490247074122237"
      ]
     },
     "execution_count": 106,
     "metadata": {},
     "output_type": "execute_result"
    }
   ],
   "source": [
    "from sklearn.metrics import accuracy_score\n",
    "\n",
    "accuracy_score(attribute_labels[predict_target], result)"
   ]
  },
  {
   "cell_type": "code",
   "execution_count": 107,
   "id": "a836d2a0-cb75-4790-a3e7-dd4a1b10c1a9",
   "metadata": {},
   "outputs": [
    {
     "data": {
      "text/plain": [
       "213"
      ]
     },
     "execution_count": 107,
     "metadata": {},
     "output_type": "execute_result"
    }
   ],
   "source": [
    "result.count(0)"
   ]
  },
  {
   "cell_type": "code",
   "execution_count": null,
   "id": "ce8d138e-4628-4662-9359-e4c33f80c001",
   "metadata": {},
   "outputs": [],
   "source": []
  }
 ],
 "metadata": {
  "kernelspec": {
   "display_name": "Python 3 (ipykernel)",
   "language": "python",
   "name": "python3"
  },
  "language_info": {
   "codemirror_mode": {
    "name": "ipython",
    "version": 3
   },
   "file_extension": ".py",
   "mimetype": "text/x-python",
   "name": "python",
   "nbconvert_exporter": "python",
   "pygments_lexer": "ipython3",
   "version": "3.10.7"
  }
 },
 "nbformat": 4,
 "nbformat_minor": 5
}
