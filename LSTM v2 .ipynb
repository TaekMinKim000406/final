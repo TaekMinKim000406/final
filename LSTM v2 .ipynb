{
 "cells": [
  {
   "cell_type": "code",
   "execution_count": 1,
   "id": "33791112-4f81-4369-afe0-570435910772",
   "metadata": {},
   "outputs": [],
   "source": [
    "import json\n",
    "import numpy as np\n",
    "import os"
   ]
  },
  {
   "cell_type": "code",
   "execution_count": 2,
   "id": "ac9f152f-f5ec-4d5f-bef3-423b09a0f4e4",
   "metadata": {},
   "outputs": [],
   "source": [
    "texts = []\n",
    "labels = []\n",
    "#실행 파일과 같은 폴더에 파일들이 존재해야 합니다.\n",
    "for i in range(1, 200):\n",
    "    file_name = f'기술_과학_{i}.json'  \n",
    "    \n",
    "    if os.path.exists(file_name):  # 파일이 존재하는 경우에만 처리\n",
    "        with open(file_name, 'r', encoding='utf-8') as file:\n",
    "            data = json.load(file)\n",
    "        \n",
    "        for conversation in data[\"dataset\"].get(\"conversations\", []):\n",
    "            for utterance in conversation.get(\"utterances\", []):\n",
    "                text = utterance.get(\"utterance_text\", \"\")\n",
    "                evaluation = utterance.get(\"utterance_evaluation\", [])\n",
    "                if evaluation:  # 평가 대상이 아닌 문장을 제외\n",
    "                    texts.append(text)\n",
    "                    labels.append(evaluation)"
   ]
  },
  {
   "cell_type": "code",
   "execution_count": 3,
   "id": "659f1159-9322-4aca-9256-9282674aaedc",
   "metadata": {},
   "outputs": [],
   "source": [
    "#토큰화 코드: 라이브러리 사용\n",
    "import konlpy \n",
    "from konlpy.tag import Okt, Hannanum, Kkma \n",
    "\n",
    "okt = Okt()\n",
    "tokenized_texts = []\n",
    "\n",
    "for i in range(len(texts)):\n",
    "    tokenized_texts.append(okt.morphs(texts[i]))\n",
    "flattened_list = [item for sublist in tokenized_texts for item in sublist]    "
   ]
  },
  {
   "cell_type": "code",
   "execution_count": 4,
   "id": "516100fc-0dc4-4cd9-9ded-6bbc1874a0de",
   "metadata": {},
   "outputs": [],
   "source": [
    "#word2vec 과정\n",
    "_word_to_id = {}\n",
    "_id_to_word = {}\n",
    "\n",
    "\n",
    "\n",
    "\n",
    "def preprocess(words): #앞에서 토큰화를 해서 적절히 바꿨습니다. \n",
    "    for word in words:\n",
    "        if word not in _word_to_id:\n",
    "            new_id = len(_word_to_id)\n",
    "            _word_to_id[word] = new_id\n",
    "            _id_to_word[new_id] = word\n",
    "    corpus = np.array([_word_to_id[w] for w in words])\n",
    "    return corpus, _word_to_id, _id_to_word"
   ]
  },
  {
   "cell_type": "code",
   "execution_count": 5,
   "id": "c0d1a1e4-f51b-43ba-9d95-4c5db86b83f6",
   "metadata": {},
   "outputs": [],
   "source": [
    "attribute_labels = {\n",
    "    'linguistic_acceptability': [],\n",
    "    'consistency': [],\n",
    "    'interestingness': [],\n",
    "    'unbias': [],\n",
    "    'harmlessness': [],\n",
    "    'no_hallucination': [],\n",
    "    'understandability': [],\n",
    "    'sensibleness': [],\n",
    "    'specificity': []\n",
    "}\n",
    "\n",
    "# 속성별 레이블 추출\n",
    "for i in range(len(labels)):\n",
    "    # 현재 대화에 대한 속성값 초기화\n",
    "    attribute_values = {key: 0 for key in attribute_labels.keys()}\n",
    "\n",
    "    for j in range(len(labels[i])):\n",
    "        for key in attribute_labels.keys():\n",
    "            if labels[i][j].get(key) == 'yes':\n",
    "                attribute_values[key] += 1\n",
    "\n",
    "    # 각 속성별로 모든 발화에서 'yes'인 경우만 1, 아니면 0\n",
    "    for key in attribute_labels.keys():\n",
    "        if attribute_values[key] == len(labels[i]):\n",
    "            attribute_labels[key].append(1)\n",
    "        else:\n",
    "            attribute_labels[key].append(0)"
   ]
  },
  {
   "cell_type": "code",
   "execution_count": 6,
   "id": "69553479-1c80-4ac2-af01-6dcc0f10d729",
   "metadata": {},
   "outputs": [],
   "source": [
    "corpus, word_to_id, id_to_word = preprocess(flattened_list)\n",
    "vocab_size = len(word_to_id)\n",
    "xs = corpus[:-1]\n",
    "ts = corpus[1:]"
   ]
  },
  {
   "cell_type": "code",
   "execution_count": 7,
   "id": "dafa7193-ae9a-4e6c-a5e1-bd875b0c1166",
   "metadata": {},
   "outputs": [],
   "source": [
    "import sys\n",
    "from common.optimizer import SGD\n",
    "from common.trainer import RnnlmTrainer\n",
    "from common.util import eval_perplexity\n",
    "from dataset import ptb\n",
    "from rnnlm import Rnnlm"
   ]
  },
  {
   "cell_type": "code",
   "execution_count": 8,
   "id": "c26a675e-bbed-4125-9bea-ebf4adcb3646",
   "metadata": {},
   "outputs": [
    {
     "name": "stdout",
     "output_type": "stream",
     "text": [
      "| 에폭 1 |  반복 1 / 76 | 시간 0[s] | 퍼플렉서티 7268.13\n",
      "| 에폭 1 |  반복 21 / 76 | 시간 2[s] | 퍼플렉서티 3220.01\n",
      "| 에폭 1 |  반복 41 / 76 | 시간 4[s] | 퍼플렉서티 1418.43\n",
      "| 에폭 1 |  반복 61 / 76 | 시간 6[s] | 퍼플렉서티 1100.86\n",
      "| 에폭 2 |  반복 1 / 76 | 시간 7[s] | 퍼플렉서티 936.08\n",
      "| 에폭 2 |  반복 21 / 76 | 시간 9[s] | 퍼플렉서티 752.03\n",
      "| 에폭 2 |  반복 41 / 76 | 시간 11[s] | 퍼플렉서티 673.26\n",
      "| 에폭 2 |  반복 61 / 76 | 시간 13[s] | 퍼플렉서티 500.09\n",
      "| 에폭 3 |  반복 1 / 76 | 시간 15[s] | 퍼플렉서티 450.76\n",
      "| 에폭 3 |  반복 21 / 76 | 시간 17[s] | 퍼플렉서티 394.82\n",
      "| 에폭 3 |  반복 41 / 76 | 시간 19[s] | 퍼플렉서티 383.58\n",
      "| 에폭 3 |  반복 61 / 76 | 시간 21[s] | 퍼플렉서티 294.65\n",
      "| 에폭 4 |  반복 1 / 76 | 시간 23[s] | 퍼플렉서티 280.11\n",
      "| 에폭 4 |  반복 21 / 76 | 시간 25[s] | 퍼플렉서티 249.88\n",
      "| 에폭 4 |  반복 41 / 76 | 시간 27[s] | 퍼플렉서티 257.62\n",
      "| 에폭 4 |  반복 61 / 76 | 시간 29[s] | 퍼플렉서티 204.61\n"
     ]
    },
    {
     "data": {
      "image/png": "[encoded data removed]",
      "text/plain": [
       "<Figure size 640x480 with 1 Axes>"
      ]
     },
     "metadata": {},
     "output_type": "display_data"
    }
   ],
   "source": [
    "batch_size = 20\n",
    "wordvec_size = 100\n",
    "hidden_size = 100  # RNN의 은닉 상태 벡터의 원소 수\n",
    "time_size = 35     # RNN을 펼치는 크기\n",
    "lr = 20.0\n",
    "max_epoch = 4\n",
    "max_grad = 0.25\n",
    "\n",
    "model = Rnnlm(vocab_size, wordvec_size, hidden_size)\n",
    "optimizer = SGD(lr)\n",
    "trainer = RnnlmTrainer(model, optimizer)\n",
    "\n",
    "# 기울기 클리핑을 적용하여 학습\n",
    "trainer.fit(xs, ts, max_epoch, batch_size, time_size, max_grad,\n",
    "            eval_interval=20)\n",
    "trainer.plot(ylim=(0, 500))"
   ]
  },
  {
   "cell_type": "code",
   "execution_count": 9,
   "id": "b54a780b-fa22-480b-8885-c8d0f9abc249",
   "metadata": {},
   "outputs": [
    {
     "data": {
      "text/plain": [
       "[]"
      ]
     },
     "execution_count": 9,
     "metadata": {},
     "output_type": "execute_result"
    }
   ],
   "source": [
    "model.loss_layer.grads"
   ]
  },
  {
   "cell_type": "code",
   "execution_count": 10,
   "id": "e1ecf6d8-57d0-43ef-939a-1d9389d9c3c5",
   "metadata": {},
   "outputs": [
    {
     "data": {
      "text/plain": [
       "[array([[-0.09931683,  0.04146024, -0.02054795, ...,  0.07725614,\n",
       "         -0.1907632 , -0.29998353],\n",
       "        [-0.03822083,  0.08858948,  0.02639859, ..., -0.17684765,\n",
       "         -0.00122294,  0.02451525],\n",
       "        [-0.11336339,  0.06553911, -0.13072345, ...,  0.2199759 ,\n",
       "          0.20362948,  0.12911136],\n",
       "        ...,\n",
       "        [ 0.00488837, -0.22050603, -0.09534346, ...,  0.06381095,\n",
       "          0.25099275,  0.09905355],\n",
       "        [ 0.04672311, -0.10045799, -0.24989611, ..., -0.09784223,\n",
       "         -0.06174868,  0.07583202],\n",
       "        [ 0.07837753,  0.1717118 , -0.08593751, ..., -0.1096727 ,\n",
       "         -0.05596013,  0.01330206]], dtype=float32),\n",
       " array([[ 0.06049323,  0.03127905,  0.02295263, ...,  0.33019066,\n",
       "          0.1603423 , -0.1276763 ],\n",
       "        [-0.2143586 , -0.05808518, -0.08280256, ...,  0.11163363,\n",
       "         -0.07710348,  0.13240044],\n",
       "        [ 0.25880504, -0.07603198,  0.2847407 , ..., -0.09046824,\n",
       "         -0.11159421, -0.03924829],\n",
       "        ...,\n",
       "        [ 0.02299385,  0.09048294,  0.08384979, ...,  0.05681449,\n",
       "         -0.08855543, -0.0506161 ],\n",
       "        [-0.17405938,  0.00730288,  0.0779565 , ...,  0.03555717,\n",
       "         -0.19130892, -0.01086446],\n",
       "        [ 0.05515517,  0.05064049,  0.09895647, ..., -0.16587506,\n",
       "          0.00946357, -0.3323672 ]], dtype=float32),\n",
       " array([-4.08613160e-02, -1.52490228e-01,  1.21479407e-01, -1.82112694e-01,\n",
       "        -1.45837843e-01, -1.63070500e-01, -4.74298120e-01, -5.05637825e-01,\n",
       "         4.07135665e-01,  3.56781445e-02, -5.63121855e-01, -2.72138655e-01,\n",
       "        -1.83211744e-01,  3.07845101e-02, -1.37513384e-01,  3.01952690e-01,\n",
       "        -1.95759758e-01, -3.52883995e-01,  5.52587137e-02, -1.85886815e-01,\n",
       "         3.36918801e-01, -2.20522538e-01, -7.38745257e-02, -1.51214421e-01,\n",
       "        -2.02658683e-01, -6.55266225e-01, -5.37006021e-01,  1.06048714e-02,\n",
       "        -2.09651381e-01,  2.67983794e-01, -1.36972949e-01,  2.34038502e-01,\n",
       "        -8.43953714e-02, -9.37906131e-02, -7.68290013e-02, -3.35446186e-02,\n",
       "        -8.71367931e-01, -6.35128617e-01, -1.74648598e-01, -5.56368470e-01,\n",
       "        -6.05702698e-01, -8.06127042e-02,  3.13555479e-01, -1.77279398e-01,\n",
       "         1.87286526e-01, -1.02829270e-01,  3.17700673e-03, -2.80678481e-01,\n",
       "        -2.28642464e-01, -1.32522404e-01, -2.03826651e-01, -7.96489790e-02,\n",
       "        -4.97964844e-02, -5.96269295e-02, -1.00247957e-01,  4.05596673e-01,\n",
       "        -8.17867517e-02, -2.66409039e-01, -3.14519227e-01, -3.56894359e-02,\n",
       "         2.56014466e-01,  2.46330108e-02, -1.38427854e-01, -4.58186746e-01,\n",
       "        -3.44625622e-01, -4.60446589e-02, -2.20688179e-01, -1.52084842e-01,\n",
       "        -4.30456288e-02, -9.93109345e-02, -1.40941098e-01, -1.75413638e-02,\n",
       "        -1.06021486e-01, -1.14280276e-01, -4.91684452e-02, -4.90604043e-01,\n",
       "        -1.46296248e-01,  9.56999063e-02, -1.01704225e-01,  2.87516356e-01,\n",
       "        -1.99247271e-01, -6.11303188e-02, -7.68736452e-02,  3.68294716e-01,\n",
       "        -3.26917171e-01, -2.33064994e-01, -1.89179197e-01, -1.64480403e-01,\n",
       "        -2.56023556e-01, -1.04131669e-01, -5.48790693e-02, -3.69288027e-04,\n",
       "        -3.88398841e-02,  9.27725136e-01, -7.15089589e-02, -8.25935602e-02,\n",
       "         1.36134401e-01,  6.28800094e-02,  5.14620282e-02, -3.69253345e-02,\n",
       "        -7.99043357e-01,  1.32829934e-01, -7.69823790e-03,  4.54817191e-02,\n",
       "        -3.37890327e-01, -6.59810677e-02, -3.22226584e-01, -2.09647149e-01,\n",
       "         6.61283851e-01,  6.90679774e-02,  2.40385622e-01, -7.76248425e-03,\n",
       "        -2.86956549e-01,  4.06536669e-01, -3.26581955e-01, -7.19850957e-01,\n",
       "        -1.89455807e-01,  1.13236189e-01, -3.66407394e-01,  4.23744887e-01,\n",
       "         7.20079005e-01,  2.39390552e-01, -4.30825144e-01, -4.36575830e-01,\n",
       "         4.07137513e-01, -6.15653455e-01, -2.02559084e-01, -3.72150242e-01,\n",
       "         4.52036411e-02, -8.09123397e-01,  5.55036247e-01, -9.81743991e-01,\n",
       "        -2.68097967e-01,  6.07806802e-01,  8.02792907e-02,  5.69313169e-01,\n",
       "        -3.70541006e-01,  2.11504936e-01,  1.77062556e-01,  7.73117840e-02,\n",
       "        -7.96498775e-01, -5.63783050e-01, -8.28271568e-01, -2.12287188e-01,\n",
       "        -6.99173987e-01, -3.19630265e-01, -6.17225349e-01,  1.64826781e-01,\n",
       "         3.01806450e-01,  1.97438359e-01, -4.12713647e-01,  2.14294448e-01,\n",
       "         6.13029063e-01, -7.93297827e-01, -2.92070657e-01, -7.49042392e-01,\n",
       "         1.54290706e-01, -3.16406563e-02, -2.75784016e-01,  6.81262255e-01,\n",
       "        -8.20779026e-01, -6.73430979e-01,  5.02579927e-01, -5.57215512e-01,\n",
       "         1.00625597e-01, -2.16864020e-01, -4.09536391e-01,  2.23896980e-01,\n",
       "        -3.98619622e-01, -1.52959317e-01,  2.46500254e-01, -8.78185511e-01,\n",
       "         5.34689367e-01,  1.64279073e-01, -3.11198644e-03,  1.35674044e-01,\n",
       "         2.38485694e-01,  5.26398778e-01,  2.66480297e-01,  1.42792314e-02,\n",
       "         5.17882183e-02, -5.19288480e-01,  7.07297385e-01, -8.45471680e-01,\n",
       "        -1.13499530e-01,  3.77482116e-01,  4.52801734e-02, -4.82073605e-01,\n",
       "         6.43797591e-02,  4.33121920e-01,  6.80104971e-01,  8.70397463e-02,\n",
       "        -3.37231532e-02, -8.77117872e-01, -8.10951412e-01,  3.38901103e-01,\n",
       "        -4.33543831e-01, -5.67231297e-01,  5.76436639e-01,  3.96451622e-01,\n",
       "         4.51151766e-02,  2.31082942e-02,  3.48814130e-01,  1.43787917e-03,\n",
       "        -7.54333436e-02,  5.46446800e-01,  3.66207957e-01,  1.02713478e+00,\n",
       "         3.23021531e-01,  1.72317013e-01,  8.08398604e-01,  2.41601825e-01,\n",
       "         3.75156105e-02,  2.16520652e-01,  7.28709623e-02,  2.80791581e-01,\n",
       "         1.17992505e-01,  9.09060776e-01,  1.29768074e-01, -4.25885320e-02,\n",
       "         2.85207778e-01,  4.42307234e-01,  9.90404859e-02, -6.24420643e-02,\n",
       "         1.12045355e-01,  1.15059805e+00,  9.50665951e-01,  1.43511862e-01,\n",
       "         5.48143685e-01,  2.31500849e-01, -1.00277789e-01,  4.40094888e-01,\n",
       "         2.78966665e-01, -1.57755241e-01,  3.93600464e-02,  2.08196091e-03,\n",
       "         1.08675337e+00,  9.63767290e-01,  2.51556128e-01,  1.17489564e+00,\n",
       "         1.03261423e+00,  4.59247768e-01,  2.64257938e-01,  2.69535810e-01,\n",
       "         2.51237571e-01, -5.13464957e-02,  1.97305158e-01,  3.19871008e-01,\n",
       "         6.25343621e-01,  3.01233321e-01, -1.32567808e-01,  9.72377062e-02,\n",
       "         2.26873174e-01,  6.03427663e-02,  6.97142333e-02,  3.11281711e-01,\n",
       "         2.90692091e-01,  3.37738782e-01,  4.44238782e-01,  6.67705461e-02,\n",
       "         2.85928905e-01,  1.20843306e-01,  8.65377933e-02,  9.20810819e-01,\n",
       "         9.23658133e-01,  1.11818358e-01, -4.38681766e-02, -2.72934288e-02,\n",
       "        -4.52487133e-02,  8.24030042e-02, -1.47033423e-01,  1.68653294e-01,\n",
       "        -1.14802629e-01,  8.38628635e-02,  2.32399523e-01,  9.67161477e-01,\n",
       "        -1.64413407e-01,  8.67973045e-02, -1.02478296e-01, -6.71166554e-02,\n",
       "         2.20017601e-02,  1.05778009e-01, -8.47787112e-02, -1.24517977e-01,\n",
       "         6.05812967e-01, -4.37594987e-02,  1.86070874e-02, -2.52281755e-01,\n",
       "         3.37467134e-01,  2.44009554e-01,  6.74636662e-02,  1.52331933e-01,\n",
       "         2.34884620e-01, -7.38583028e-01,  6.38328046e-02,  2.45878905e-01,\n",
       "         1.39709964e-01,  2.55953938e-01,  1.18111275e-01,  5.36956228e-02,\n",
       "        -4.29733217e-01, -7.60197788e-02,  3.28347564e-01, -9.84226763e-02,\n",
       "        -3.05239350e-01,  5.18742979e-01,  4.76167530e-01,  1.19805622e+00,\n",
       "        -3.94250691e-01,  1.17891148e-01,  7.42200971e-01,  2.02775285e-01,\n",
       "        -8.69139731e-02, -6.83442533e-01,  1.16085066e-02, -6.94718897e-01,\n",
       "        -8.50637630e-02,  9.32275653e-01,  2.37549409e-01, -5.68446577e-01,\n",
       "        -1.00862086e+00,  4.33475912e-01, -1.42470002e-01, -4.77207720e-01,\n",
       "        -4.13444042e-02,  1.29527223e+00,  1.06157660e+00,  9.07604843e-02,\n",
       "         6.23433232e-01, -6.41788483e-01, -3.01097482e-01, -5.37482321e-01,\n",
       "         3.13007832e-01, -2.04214394e-01,  7.17252642e-02, -3.65248382e-01,\n",
       "         1.14933348e+00,  1.19735789e+00,  1.98140353e-01,  1.40756643e+00,\n",
       "         1.01422465e+00,  8.15740943e-01, -1.76868886e-01, -1.02344207e-01,\n",
       "        -4.67810094e-01, -2.39430696e-01, -5.29726028e-01,  4.23267722e-01,\n",
       "         4.54130858e-01,  3.74185115e-01, -5.63406765e-01,  2.54071325e-01,\n",
       "        -5.24311841e-01, -3.02288055e-01, -1.86581954e-01, -4.69765484e-01,\n",
       "         3.02019864e-01,  4.03849959e-01,  4.36865449e-01, -3.83438915e-01,\n",
       "        -3.71438026e-01, -2.82460064e-01, -5.47019660e-01,  9.38666940e-01,\n",
       "         1.04361498e+00,  2.81803031e-03, -2.46458739e-01, -3.20847929e-01,\n",
       "        -4.55353886e-01, -5.90813339e-01, -1.97262228e-01, -5.17255664e-01,\n",
       "        -2.67822772e-01, -4.55062985e-01,  3.32751870e-01,  9.56915736e-01,\n",
       "        -2.62821764e-01, -4.75851595e-01, -1.03585616e-01,  3.07994962e-01,\n",
       "        -2.64726847e-01, -4.24217999e-01, -2.00081155e-01,  2.22854450e-01,\n",
       "         5.55433691e-01, -4.77738023e-01, -4.97324765e-02, -4.16759551e-01,\n",
       "         3.75621051e-01,  1.35114834e-01, -1.54941484e-01,  1.13066055e-01,\n",
       "         4.11009401e-01,  5.17210841e-01, -4.52804893e-01,  2.43970349e-01,\n",
       "         2.24256039e-01,  3.55017841e-01, -3.51536840e-01, -1.37533426e-01],\n",
       "       dtype=float32)]"
      ]
     },
     "execution_count": 10,
     "metadata": {},
     "output_type": "execute_result"
    }
   ],
   "source": [
    "model.lstm_layer.params"
   ]
  },
  {
   "cell_type": "code",
   "execution_count": 11,
   "id": "f97f28fb-1ec6-44c8-a454-21d263dfe178",
   "metadata": {},
   "outputs": [],
   "source": [
    "test_texts = []\n",
    "test_labels = []\n",
    "\n",
    "for i in range(1, 100):\n",
    "    file_name = f'기술_과학_{i}.json'  \n",
    "    \n",
    "    if os.path.exists(file_name):  # 파일이 존재하는 경우에만 처리\n",
    "        with open(file_name, 'r', encoding='utf-8') as file:\n",
    "            data = json.load(file)\n",
    "        \n",
    "        for conversation in data[\"dataset\"].get(\"conversations\", []):\n",
    "            for utterance in conversation.get(\"utterances\", []):\n",
    "                text = utterance.get(\"utterance_text\", \"\")\n",
    "                evaluation = utterance.get(\"utterance_evaluation\", [])\n",
    "                if evaluation:  # 평가 대상이 아닌 문장을 제외\n",
    "                    test_texts.append(text)\n",
    "                    test_labels.append(evaluation)\n",
    "\n",
    "test_tokenized_texts = []\n",
    "for i in range(len(texts)):\n",
    "    test_tokenized_texts.append(okt.morphs(texts[i]))\n",
    "test_flattened_list = [item for sublist in test_tokenized_texts for item in sublist] \n",
    "\n",
    "test_attribute_labels = {\n",
    "    'linguistic_acceptability': [],\n",
    "    'consistency': [],\n",
    "    'interestingness': [],\n",
    "    'unbias': [],\n",
    "    'harmlessness': [],\n",
    "    'no_hallucination': [],\n",
    "    'understandability': [],\n",
    "    'sensibleness': [],\n",
    "    'specificity': []\n",
    "}\n",
    "\n",
    "# 속성별 레이블 추출\n",
    "for i in range(len(labels)):\n",
    "    # 현재 대화에 대한 속성값 초기화\n",
    "    attribute_values = {key: 0 for key in test_attribute_labels.keys()}\n",
    "\n",
    "    for j in range(len(labels[i])):\n",
    "        for key in test_attribute_labels.keys():\n",
    "            if labels[i][j].get(key) == 'yes':\n",
    "                attribute_values[key] += 1\n",
    "\n",
    "    # 각 속성별로 모든 발화에서 'yes'인 경우만 1, 아니면 0\n",
    "    for key in test_attribute_labels.keys():\n",
    "        if attribute_values[key] == len(labels[i]):\n",
    "            test_attribute_labels[key].append(1)\n",
    "        else:\n",
    "            test_attribute_labels[key].append(0)\n",
    "\n",
    "test_corpus, test_word_to_id, test_id_to_word = preprocess(test_flattened_list)\n",
    "vocab_size = len(test_word_to_id)\n",
    "xs = test_corpus[:-1]\n",
    "ts = test_corpus[1:]"
   ]
  },
  {
   "cell_type": "code",
   "execution_count": 12,
   "id": "4e379a96-6af8-44a2-ac23-87d27cc67811",
   "metadata": {},
   "outputs": [
    {
     "name": "stdout",
     "output_type": "stream",
     "text": [
      "| 에폭 5 |  반복 1 / 76 | 시간 0[s] | 퍼플렉서티 198.49\n",
      "| 에폭 5 |  반복 21 / 76 | 시간 2[s] | 퍼플렉서티 174.92\n",
      "| 에폭 5 |  반복 41 / 76 | 시간 4[s] | 퍼플렉서티 173.91\n",
      "| 에폭 5 |  반복 61 / 76 | 시간 6[s] | 퍼플렉서티 138.59\n",
      "| 에폭 6 |  반복 1 / 76 | 시간 7[s] | 퍼플렉서티 146.73\n",
      "| 에폭 6 |  반복 21 / 76 | 시간 9[s] | 퍼플렉서티 126.81\n",
      "| 에폭 6 |  반복 41 / 76 | 시간 11[s] | 퍼플렉서티 131.45\n",
      "| 에폭 6 |  반복 61 / 76 | 시간 13[s] | 퍼플렉서티 105.06\n",
      "| 에폭 7 |  반복 1 / 76 | 시간 15[s] | 퍼플렉서티 103.85\n",
      "| 에폭 7 |  반복 21 / 76 | 시간 17[s] | 퍼플렉서티 96.84\n",
      "| 에폭 7 |  반복 41 / 76 | 시간 19[s] | 퍼플렉서티 100.11\n",
      "| 에폭 7 |  반복 61 / 76 | 시간 21[s] | 퍼플렉서티 82.06\n",
      "| 에폭 8 |  반복 1 / 76 | 시간 22[s] | 퍼플렉서티 78.40\n",
      "| 에폭 8 |  반복 21 / 76 | 시간 24[s] | 퍼플렉서티 74.34\n",
      "| 에폭 8 |  반복 41 / 76 | 시간 26[s] | 퍼플렉서티 75.66\n",
      "| 에폭 8 |  반복 61 / 76 | 시간 28[s] | 퍼플렉서티 63.94\n"
     ]
    }
   ],
   "source": [
    "loss = trainer.fitv2(xs, ts, max_epoch, batch_size, time_size, max_grad)"
   ]
  },
  {
   "cell_type": "code",
   "execution_count": 13,
   "id": "62dea8d1-af34-4bef-ac55-ae2d7406715c",
   "metadata": {},
   "outputs": [
    {
     "data": {
      "text/plain": [
       "304"
      ]
     },
     "execution_count": 13,
     "metadata": {},
     "output_type": "execute_result"
    }
   ],
   "source": [
    "len(loss)"
   ]
  },
  {
   "cell_type": "code",
   "execution_count": 14,
   "id": "6498ed4a-b4fb-4b4c-813d-c46517efe56d",
   "metadata": {},
   "outputs": [
    {
     "data": {
      "text/plain": [
       "53688"
      ]
     },
     "execution_count": 14,
     "metadata": {},
     "output_type": "execute_result"
    }
   ],
   "source": [
    "len(test_corpus)"
   ]
  },
  {
   "cell_type": "code",
   "execution_count": 15,
   "id": "fee4b6fe-a854-4657-be47-a243dace5a21",
   "metadata": {},
   "outputs": [
    {
     "data": {
      "text/plain": [
       "734"
      ]
     },
     "execution_count": 15,
     "metadata": {},
     "output_type": "execute_result"
    }
   ],
   "source": [
    "len(test_texts)"
   ]
  },
  {
   "cell_type": "code",
   "execution_count": 16,
   "id": "2371ab2c-72f3-4940-90a2-8a647a281a06",
   "metadata": {},
   "outputs": [],
   "source": [
    "from common.optimizer import SGD\n",
    "from common.trainer import RnnlmTrainer\n",
    "from common.util import eval_perplexity, to_gpu\n",
    "from dataset import ptb\n",
    "from better_rnnlm import BetterRnnlm"
   ]
  },
  {
   "cell_type": "code",
   "execution_count": 17,
   "id": "b98ca812-eddf-4a85-a6bc-531db0e8297c",
   "metadata": {},
   "outputs": [],
   "source": [
    "batch_size = 20\n",
    "wordvec_size = 650\n",
    "hidden_size = 650\n",
    "time_size = 35\n",
    "lr = 20.0\n",
    "max_epoch = 40\n",
    "max_grad = 0.25\n",
    "dropout = 0.5"
   ]
  },
  {
   "cell_type": "code",
   "execution_count": 18,
   "id": "1478a27c-ae99-4945-97a1-4e8eb03dbd7c",
   "metadata": {},
   "outputs": [],
   "source": [
    "model = BetterRnnlm(vocab_size, wordvec_size, hidden_size, dropout)\n",
    "optimizer = SGD(lr)\n",
    "trainer = RnnlmTrainer(model, optimizer)"
   ]
  },
  {
   "cell_type": "code",
   "execution_count": null,
   "id": "5c1d58be-8640-4ef1-a4ed-0088b268eb03",
   "metadata": {},
   "outputs": [
    {
     "name": "stdout",
     "output_type": "stream",
     "text": [
      "| 에폭 2 |  반복 1 / 76 | 시간 1[s] | 퍼플렉서티 1241.72\n",
      "| 에폭 2 |  반복 21 / 76 | 시간 22[s] | 퍼플렉서티 1154.60\n",
      "| 에폭 2 |  반복 41 / 76 | 시간 43[s] | 퍼플렉서티 1031.42\n",
      "| 에폭 2 |  반복 61 / 76 | 시간 64[s] | 퍼플렉서티 755.96\n",
      "퍼플렉서티 평가 중 ...\n",
      "999 / 10001\n",
      "검증 퍼플렉서티:  538.0110431307811\n",
      "--------------------------------------------------\n",
      "| 에폭 3 |  반복 1 / 76 | 시간 1[s] | 퍼플렉서티 572.60\n",
      "| 에폭 3 |  반복 21 / 76 | 시간 22[s] | 퍼플렉서티 565.83\n",
      "| 에폭 3 |  반복 41 / 76 | 시간 44[s] | 퍼플렉서티 530.44\n",
      "| 에폭 3 |  반복 61 / 76 | 시간 66[s] | 퍼플렉서티 410.61\n",
      "퍼플렉서티 평가 중 ...\n",
      "999 / 10001\n",
      "검증 퍼플렉서티:  334.4673155035835\n",
      "--------------------------------------------------\n",
      "| 에폭 4 |  반복 1 / 76 | 시간 1[s] | 퍼플렉서티 362.44\n",
      "| 에폭 4 |  반복 21 / 76 | 시간 22[s] | 퍼플렉서티 362.63\n",
      "| 에폭 4 |  반복 41 / 76 | 시간 44[s] | 퍼플렉서티 349.75\n",
      "| 에폭 4 |  반복 61 / 76 | 시간 66[s] | 퍼플렉서티 265.62\n",
      "퍼플렉서티 평가 중 ...\n",
      "999 / 10001\n",
      "검증 퍼플렉서티:  211.00238477985334\n",
      "--------------------------------------------------\n",
      "| 에폭 5 |  반복 1 / 76 | 시간 1[s] | 퍼플렉서티 249.23\n",
      "| 에폭 5 |  반복 21 / 76 | 시간 22[s] | 퍼플렉서티 247.10\n",
      "| 에폭 5 |  반복 41 / 76 | 시간 44[s] | 퍼플렉서티 239.05\n",
      "| 에폭 5 |  반복 61 / 76 | 시간 65[s] | 퍼플렉서티 191.47\n",
      "퍼플렉서티 평가 중 ...\n",
      "999 / 10001\n",
      "검증 퍼플렉서티:  150.10159073616217\n",
      "--------------------------------------------------\n",
      "| 에폭 6 |  반복 1 / 76 | 시간 1[s] | 퍼플렉서티 190.82\n",
      "| 에폭 6 |  반복 21 / 76 | 시간 22[s] | 퍼플렉서티 183.24\n",
      "| 에폭 6 |  반복 41 / 76 | 시간 44[s] | 퍼플렉서티 178.03\n",
      "| 에폭 6 |  반복 61 / 76 | 시간 66[s] | 퍼플렉서티 146.97\n",
      "퍼플렉서티 평가 중 ...\n",
      "999 / 10001\n",
      "검증 퍼플렉서티:  113.39380892462658\n",
      "--------------------------------------------------\n",
      "| 에폭 7 |  반복 1 / 76 | 시간 1[s] | 퍼플렉서티 146.77\n",
      "| 에폭 7 |  반복 21 / 76 | 시간 21[s] | 퍼플렉서티 138.79\n",
      "| 에폭 7 |  반복 41 / 76 | 시간 42[s] | 퍼플렉서티 159.81\n",
      "| 에폭 7 |  반복 61 / 76 | 시간 63[s] | 퍼플렉서티 114.99\n",
      "퍼플렉서티 평가 중 ...\n",
      "999 / 10001\n",
      "검증 퍼플렉서티:  85.17418621659013\n",
      "--------------------------------------------------\n",
      "| 에폭 8 |  반복 1 / 76 | 시간 1[s] | 퍼플렉서티 116.19\n",
      "| 에폭 8 |  반복 21 / 76 | 시간 22[s] | 퍼플렉서티 108.64\n",
      "| 에폭 8 |  반복 41 / 76 | 시간 43[s] | 퍼플렉서티 114.92\n",
      "| 에폭 8 |  반복 61 / 76 | 시간 63[s] | 퍼플렉서티 91.08\n",
      "퍼플렉서티 평가 중 ...\n",
      "999 / 10001\n",
      "검증 퍼플렉서티:  63.923808767667744\n",
      "--------------------------------------------------\n",
      "| 에폭 9 |  반복 1 / 76 | 시간 1[s] | 퍼플렉서티 92.39\n",
      "| 에폭 9 |  반복 21 / 76 | 시간 20[s] | 퍼플렉서티 86.55\n",
      "| 에폭 9 |  반복 41 / 76 | 시간 40[s] | 퍼플렉서티 89.59\n",
      "| 에폭 9 |  반복 61 / 76 | 시간 61[s] | 퍼플렉서티 72.58\n",
      "퍼플렉서티 평가 중 ...\n",
      "999 / 10001\n",
      "검증 퍼플렉서티:  49.701952691041484\n",
      "--------------------------------------------------\n",
      "| 에폭 10 |  반복 1 / 76 | 시간 0[s] | 퍼플렉서티 77.85\n",
      "| 에폭 10 |  반복 21 / 76 | 시간 20[s] | 퍼플렉서티 69.73\n",
      "| 에폭 10 |  반복 41 / 76 | 시간 41[s] | 퍼플렉서티 70.37\n",
      "| 에폭 10 |  반복 61 / 76 | 시간 61[s] | 퍼플렉서티 59.04\n",
      "퍼플렉서티 평가 중 ...\n",
      "999 / 10001\n",
      "검증 퍼플렉서티:  39.65543300663405\n",
      "--------------------------------------------------\n",
      "| 에폭 11 |  반복 1 / 76 | 시간 1[s] | 퍼플렉서티 61.61\n",
      "| 에폭 11 |  반복 21 / 76 | 시간 21[s] | 퍼플렉서티 56.32\n",
      "| 에폭 11 |  반복 41 / 76 | 시간 42[s] | 퍼플렉서티 56.63\n",
      "| 에폭 11 |  반복 61 / 76 | 시간 63[s] | 퍼플렉서티 47.27\n",
      "퍼플렉서티 평가 중 ...\n",
      "999 / 10001\n",
      "검증 퍼플렉서티:  30.564320848684744\n",
      "--------------------------------------------------\n",
      "| 에폭 12 |  반복 1 / 76 | 시간 1[s] | 퍼플렉서티 47.98\n",
      "| 에폭 12 |  반복 21 / 76 | 시간 22[s] | 퍼플렉서티 45.39\n",
      "| 에폭 12 |  반복 41 / 76 | 시간 42[s] | 퍼플렉서티 45.38\n",
      "| 에폭 12 |  반복 61 / 76 | 시간 64[s] | 퍼플렉서티 38.38\n",
      "퍼플렉서티 평가 중 ...\n",
      "203 / 1000"
     ]
    }
   ],
   "source": [
    "#LSTM 개선 버전 사용 코드\n",
    "best_ppl = float('inf')\n",
    "for epoch in range(max_epoch):\n",
    "    trainer.fit(xs, ts, max_epoch=1, batch_size=batch_size,\n",
    "                time_size=time_size, max_grad=max_grad)\n",
    "\n",
    "    model.reset_state()\n",
    "    ppl = eval_perplexity(model, test_corpus)\n",
    "    print('검증 퍼플렉서티: ', ppl)\n",
    "\n",
    "    if best_ppl > ppl:\n",
    "        best_ppl = ppl\n",
    "        model.save_params()\n",
    "    else:\n",
    "        lr /= 4.0\n",
    "        optimizer.lr = lr\n",
    "\n",
    "    model.reset_state()\n",
    "    print('-' * 50)\n",
    "\n",
    "\n",
    "# 테스트 데이터로 평가\n",
    "model.reset_state()\n",
    "ppl_test = eval_perplexity(model, test_corpus)\n",
    "print('테스트 퍼플렉서티: ', ppl_test)"
   ]
  },
  {
   "cell_type": "code",
   "execution_count": null,
   "id": "3cc3c263-eb84-438e-8886-78806393d901",
   "metadata": {},
   "outputs": [],
   "source": []
  }
 ],
 "metadata": {
  "kernelspec": {
   "display_name": "Python 3 (ipykernel)",
   "language": "python",
   "name": "python3"
  },
  "language_info": {
   "codemirror_mode": {
    "name": "ipython",
    "version": 3
   },
   "file_extension": ".py",
   "mimetype": "text/x-python",
   "name": "python",
   "nbconvert_exporter": "python",
   "pygments_lexer": "ipython3",
   "version": "3.10.7"
  }
 },
 "nbformat": 4,
 "nbformat_minor": 5
}
